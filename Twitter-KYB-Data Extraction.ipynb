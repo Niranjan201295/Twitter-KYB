{
 "cells": [
  {
   "cell_type": "code",
   "execution_count": 1,
   "id": "e97b5fc5",
   "metadata": {},
   "outputs": [],
   "source": [
    "import tweepy\n",
    "import configparser\n",
    "import pandas as pd\n",
    "import numpy as np\n",
    "import os\n",
    "from vaderSentiment.vaderSentiment import SentimentIntensityAnalyzer"
   ]
  },
  {
   "cell_type": "code",
   "execution_count": 21,
   "id": "17781895",
   "metadata": {},
   "outputs": [],
   "source": [
    "output_path = \"//Output//\""
   ]
  },
  {
   "cell_type": "code",
   "execution_count": 2,
   "id": "a1987654",
   "metadata": {},
   "outputs": [],
   "source": [
    "#Reading credentials and base files\n",
    "config = configparser.ConfigParser()\n",
    "config.read(\"config.ini\")\n",
    "twitter_handles_df = pd.read_excel(\"Twitter Handles.xlsx\") "
   ]
  },
  {
   "cell_type": "code",
   "execution_count": null,
   "id": "446965fe",
   "metadata": {},
   "outputs": [],
   "source": [
    "#Remove all hashtags and the following words\n",
    "#Remove special characters\n",
    "#Remove all links\n",
    "\n",
    "def preProcessTweets(tweet):\n",
    "    "
   ]
  },
  {
   "cell_type": "code",
   "execution_count": 16,
   "id": "c0bcb2e0",
   "metadata": {},
   "outputs": [],
   "source": [
    "def getSentiment(sentence):\n",
    " \n",
    "    sia_obj = SentimentIntensityAnalyzer()\n",
    " \n",
    "    sentiment_dict = sia_obj.polarity_scores(sentence)\n",
    "    \n",
    "    if sentiment_dict['compound'] >= 0.05 :\n",
    "        sentiment = \"Positive\"\n",
    " \n",
    "    elif sentiment_dict['compound'] <= - 0.05 :\n",
    "        sentiment = \"Negative\"\n",
    " \n",
    "    else :\n",
    "        sentiment = \"Neutral\"\n",
    "        \n",
    "    return [sentiment, sentiment_dict['compound']]"
   ]
  },
  {
   "cell_type": "code",
   "execution_count": 4,
   "id": "efd8ea94",
   "metadata": {},
   "outputs": [],
   "source": [
    "###########################################################################################################################\n",
    "#Function Name:\n",
    "#Purpose:\n",
    "#Arguments:\n",
    "#Output:\n",
    "###########################################################################################################################\n",
    "\n",
    "def getAuthenticatedTwitterInstance(config):\n",
    "    \n",
    "    api_key = config['Twitter-KYB Config']['api_key']\n",
    "    api_key_secret = config['Twitter-KYB Config']['api_secret_key']\n",
    "    access_token = config['Twitter-KYB Config']['access_token']\n",
    "    access_token_secret = config['Twitter-KYB Config']['access_token_secret']\n",
    "    \n",
    "    #Authentication\n",
    "    auth = tweepy.OAuthHandler(api_key, api_key_secret)\n",
    "    auth.set_access_token(access_token, access_token_secret)\n",
    "\n",
    "    twitter_api_instance = tweepy.API(auth)\n",
    "    \n",
    "    return twitter_api_instance"
   ]
  },
  {
   "cell_type": "code",
   "execution_count": 47,
   "id": "079328e8",
   "metadata": {},
   "outputs": [],
   "source": [
    "###########################################################################################################################\n",
    "#Function Name:\n",
    "#Purpose:\n",
    "#Arguments:\n",
    "#Output:\n",
    "###########################################################################################################################\n",
    "\n",
    "def getBaseTweets(business_df, twitter_api_instance):\n",
    "    \n",
    "    base_tweets_df = pd.DataFrame()\n",
    "\n",
    "    for handle in business_df[\"Twitter Handles\"].tolist():    \n",
    "        tweets = twitter_api_instance.search_tweets(q = handle + \" -filter:retweets\", result_type = \"recent\", count = 2000, tweet_mode = 'extended')\n",
    "    \n",
    "        business_type = business_df[business_df[\"Twitter Handles\"] == handle][\"Business\"].iloc[0]\n",
    "        brand = business_df[business_df[\"Twitter Handles\"] == handle][\"Brands\"].iloc[0]\n",
    "    \n",
    "        for tweet in tweets:\n",
    "            tweet_df = pd.DataFrame([{\"Business\": business_type,\n",
    "                                      \"Brand\": brand,\n",
    "                                      \"Tweet\": tweet.full_text}])\n",
    "        \n",
    "            base_tweets_df = pd.concat([base_tweets_df, tweet_df], axis = 0, ignore_index = True)\n",
    "    \n",
    "    return base_tweets_df"
   ]
  },
  {
   "cell_type": "code",
   "execution_count": 6,
   "id": "ed9a4d2b",
   "metadata": {},
   "outputs": [],
   "source": [
    "twitter_instance = getAuthenticatedTwitterInstance(config)"
   ]
  },
  {
   "cell_type": "code",
   "execution_count": 48,
   "id": "64a2b966",
   "metadata": {},
   "outputs": [],
   "source": [
    "base_tweets_df = getBaseTweets(twitter_handles_df, twitter_instance)"
   ]
  },
  {
   "cell_type": "code",
   "execution_count": 49,
   "id": "7640e49a",
   "metadata": {},
   "outputs": [],
   "source": [
    "base_tweets_df[\"Sentiment\"] = base_tweets_df[\"Tweet\"].apply(lambda x: getSentiment(x))"
   ]
  },
  {
   "cell_type": "code",
   "execution_count": 50,
   "id": "242641ad",
   "metadata": {},
   "outputs": [],
   "source": [
    "base_tweets_df[\"Sentiment Score\"] = base_tweets_df[\"Sentiment\"].apply(lambda x: x[1])\n",
    "base_tweets_df[\"Sentiment\"] = base_tweets_df[\"Sentiment\"].apply(lambda x: x[0])"
   ]
  },
  {
   "cell_type": "code",
   "execution_count": 51,
   "id": "84c4d6cf",
   "metadata": {},
   "outputs": [
    {
     "data": {
      "text/plain": [
       "Positive    812\n",
       "Negative    637\n",
       "Neutral     519\n",
       "Name: Sentiment, dtype: int64"
      ]
     },
     "execution_count": 51,
     "metadata": {},
     "output_type": "execute_result"
    }
   ],
   "source": [
    "base_tweets_df[\"Sentiment\"].value_counts()"
   ]
  },
  {
   "cell_type": "code",
   "execution_count": 52,
   "id": "adcbd363",
   "metadata": {},
   "outputs": [],
   "source": [
    "base_tweets_df.to_excel(\"Base Tweet Data Analysis.xlsx\", index = False)"
   ]
  }
 ],
 "metadata": {
  "kernelspec": {
   "display_name": "Python 3 (ipykernel)",
   "language": "python",
   "name": "python3"
  },
  "language_info": {
   "codemirror_mode": {
    "name": "ipython",
    "version": 3
   },
   "file_extension": ".py",
   "mimetype": "text/x-python",
   "name": "python",
   "nbconvert_exporter": "python",
   "pygments_lexer": "ipython3",
   "version": "3.9.7"
  }
 },
 "nbformat": 4,
 "nbformat_minor": 5
}
